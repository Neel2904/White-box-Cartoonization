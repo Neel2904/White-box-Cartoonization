{
 "cells": [
  {
   "cell_type": "code",
   "execution_count": null,
   "metadata": {},
   "outputs": [],
   "source": [
    "import os\n",
    "import cv2\n",
    "import numpy as np\n",
    "import tensorflow as tf \n",
    "import network.py\n",
    "import guided_filter\n",
    "from tqdm import tqdm"
   ]
  },
  {
   "cell_type": "code",
   "execution_count": null,
   "metadata": {},
   "outputs": [],
   "source": [
    "def resize_crop(image):\n",
    "    h, w, c = np.shape(image)\n",
    "    if min(h, w) > 720:\n",
    "        if h > w:\n",
    "            h, w = int(720*h/w), 720\n",
    "        else:\n",
    "            h, w = 720, int(720*w/h)\n",
    "    image = cv2.resize(image, (w, h),\n",
    "                       interpolation=cv2.INTER_AREA)\n",
    "    h, w = (h//8)*8, (w//8)*8\n",
    "    image = image[:h, :w, :]\n",
    "    return image\n",
    "    "
   ]
  },
  {
   "cell_type": "code",
   "execution_count": null,
   "metadata": {},
   "outputs": [],
   "source": [
    "def cartoonize(load_folder, save_folder, model_path):\n",
    "    input_photo = tf.placeholder(tf.float32, [1, None, None, 3])\n",
    "    network_out = network.unet_generator(input_photo)\n",
    "    final_out = guided_filter.guided_filter(input_photo, network_out, r=1, eps=5e-3)\n",
    "\n",
    "    all_vars = tf.trainable_variables()\n",
    "    gene_vars = [var for var in all_vars if 'generator' in var.name]\n",
    "    saver = tf.train.Saver(var_list=gene_vars)\n",
    "    \n",
    "    config = tf.ConfigProto()\n",
    "    config.gpu_options.allow_growth = True\n",
    "    sess = tf.Session(config=config)\n",
    "\n",
    "    sess.run(tf.global_variables_initializer())\n",
    "    saver.restore(sess, tf.train.latest_checkpoint(model_path))\n",
    "    name_list = os.listdir(load_folder)\n",
    "    for name in tqdm(name_list):\n",
    "        try:\n",
    "            load_path = os.path.join(load_folder, name)\n",
    "            save_path = os.path.join(save_folder, name)\n",
    "            image = cv2.imread(load_path)\n",
    "            image = resize_crop(image)\n",
    "            batch_image = image.astype(np.float32)/127.5 - 1\n",
    "            batch_image = np.expand_dims(batch_image, axis=0)\n",
    "            output = sess.run(final_out, feed_dict={input_photo: batch_image})\n",
    "            output = (np.squeeze(output)+1)*127.5\n",
    "            output = np.clip(output, 0, 255).astype(np.uint8)\n",
    "            cv2.imwrite(save_path, output)\n",
    "        except:\n",
    "            print('cartoonize {} failed'.format(load_path))"
   ]
  },
  {
   "cell_type": "code",
   "execution_count": null,
   "metadata": {},
   "outputs": [],
   "source": [
    "model_path = 'saved_models'\n",
    "load_folder = 'test_images'\n",
    "save_folder = 'cartoonized_images'"
   ]
  },
  {
   "cell_type": "code",
   "execution_count": null,
   "metadata": {},
   "outputs": [],
   "source": [
    "if not os.path.exists(save_folder):\n",
    "    os.mkdir(save_folder)\n",
    "cartoonize(load_folder, save_folder, model_path)"
   ]
  },
  {
   "cell_type": "code",
   "execution_count": null,
   "metadata": {},
   "outputs": [],
   "source": []
  },
  {
   "cell_type": "code",
   "execution_count": null,
   "metadata": {},
   "outputs": [],
   "source": []
  },
  {
   "cell_type": "code",
   "execution_count": null,
   "metadata": {},
   "outputs": [],
   "source": []
  },
  {
   "cell_type": "code",
   "execution_count": null,
   "metadata": {},
   "outputs": [],
   "source": []
  },
  {
   "cell_type": "code",
   "execution_count": null,
   "metadata": {},
   "outputs": [],
   "source": []
  },
  {
   "cell_type": "code",
   "execution_count": null,
   "metadata": {},
   "outputs": [],
   "source": []
  }
 ],
 "metadata": {
  "kernelspec": {
   "display_name": "Python 3",
   "language": "python",
   "name": "python3"
  },
  "language_info": {
   "codemirror_mode": {
    "name": "ipython",
    "version": 3
   },
   "file_extension": ".py",
   "mimetype": "text/x-python",
   "name": "python",
   "nbconvert_exporter": "python",
   "pygments_lexer": "ipython3",
   "version": "3.8.3"
  }
 },
 "nbformat": 4,
 "nbformat_minor": 4
}
